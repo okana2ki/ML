{
  "nbformat": 4,
  "nbformat_minor": 0,
  "metadata": {
    "colab": {
      "provenance": [],
      "authorship_tag": "ABX9TyM6zBGVuwbMa3z0oTBpq0SB",
      "include_colab_link": true
    },
    "kernelspec": {
      "name": "python3",
      "display_name": "Python 3"
    },
    "language_info": {
      "name": "python"
    }
  },
  "cells": [
    {
      "cell_type": "markdown",
      "metadata": {
        "id": "view-in-github",
        "colab_type": "text"
      },
      "source": [
        "<a href=\"https://colab.research.google.com/github/okana2ki/ML/blob/main/GENAI4E_Activity.ipynb\" target=\"_parent\"><img src=\"https://colab.research.google.com/assets/colab-badge.svg\" alt=\"Open In Colab\"/></a>"
      ]
    },
    {
      "cell_type": "markdown",
      "source": [
        "# [Generative AI for Everyone](https://www.coursera.org/learn/generative-ai-for-everyone)\n"
      ],
      "metadata": {
        "id": "dsWvQ9jkKQy9"
      }
    },
    {
      "cell_type": "markdown",
      "source": [
        "## Activity 1: Prompting an LLM in code"
      ],
      "metadata": {
        "id": "M1zAPC4uMrKE"
      }
    },
    {
      "cell_type": "markdown",
      "source": [
        "Instructions:\n",
        "\n",
        "1. For each of the two code cells below, click on the cell then hit Shift+Enter on your keyboard to run the code (or if on a mobile device, press 'play' button).\n",
        "2. Optionally edit the prompt, and try again!"
      ],
      "metadata": {
        "id": "VD9UT1WoMUJd"
      }
    },
    {
      "cell_type": "markdown",
      "source": [
        "Set up programming environment to use code to send prompts to OpenAI's cloud-hosted service."
      ],
      "metadata": {
        "id": "PDZi8hXvKtOz"
      }
    },
    {
      "cell_type": "code",
      "source": [
        "!pip install openai"
      ],
      "metadata": {
        "id": "X9re_DKlR-HX"
      },
      "execution_count": null,
      "outputs": []
    },
    {
      "cell_type": "code",
      "execution_count": 2,
      "metadata": {
        "id": "YLZDixrKJ9GY"
      },
      "outputs": [],
      "source": [
        "import openai\n",
        "import os\n",
        "from google.colab import userdata\n",
        "\n",
        "# openai.api_key = os.getenv(\"OPENAI_API_KEY\")\n",
        "openai.api_key = userdata.get('openai_api_key')\n",
        "# Colabを開いて、左側のサイドバーの鍵マークを開いて、シークレット情報を入力し、ノートブックからのアクセスを有効化します。\n",
        "\n",
        "def llm_response(prompt):\n",
        "    # response = openai.ChatCompletion.create(\n",
        "    response = openai.chat.completions.create(\n",
        "        model='gpt-3.5-turbo',\n",
        "        messages=[{'role':'user','content':prompt}],\n",
        "        temperature=0\n",
        "    )\n",
        "    # return response.choices[0].message['content']\n",
        "    return response.choices[0].message.content"
      ]
    },
    {
      "cell_type": "markdown",
      "source": [
        "Define a prompt that will classify the sentiment of a restaurant review."
      ],
      "metadata": {
        "id": "F3oSn98fKvNA"
      }
    },
    {
      "cell_type": "code",
      "source": [
        "prompt = '''\n",
        "    Classify the following review\n",
        "    as having either a positive or\n",
        "    negative sentiment:\n",
        "\n",
        "    The banana pudding was really tasty!\n",
        "'''\n",
        "\n",
        "response = llm_response(prompt)\n",
        "print(response)"
      ],
      "metadata": {
        "id": "PniP7cVmKpzL"
      },
      "execution_count": null,
      "outputs": []
    },
    {
      "cell_type": "markdown",
      "source": [
        "## Gemini APIを使う場合\n",
        "* [Gemini API キーを作成](https://aistudio.google.com/app/apikey)\n",
        "* [Gemini API クイックスタート](https://ai.google.dev/gemini-api/docs/quickstart?lang=python&hl=ja)\n",
        "* [Colabでのクイックスタート](https://colab.research.google.com/github/google/generative-ai-docs/blob/main/site/en/tutorials/quickstart_colab.ipynb?hl=ja)\n",
        "* [料金モデル](https://ai.google.dev/pricing?hl=ja)：レート制限はあるが、課金が無効になっているプロジェクトでは無料で使える"
      ],
      "metadata": {
        "id": "58rbMY4L11tL"
      }
    },
    {
      "cell_type": "markdown",
      "source": [
        "## Activity 2: Reputation monitoring system"
      ],
      "metadata": {
        "id": "4ctDxdC0LCc3"
      }
    },
    {
      "cell_type": "markdown",
      "source": [
        "Instructions:\n",
        "\n",
        "1. For each of the four code cells below, click on the cell then hit Shift+Enter on your keyboard to run the code (or if on a mobile device, press 'play' button).\n",
        "2. Optionally edit the reviews in Code cell 2, and try again (rerun the 2nd, 3rd and 4th code cells)!"
      ],
      "metadata": {
        "id": "BFZfL5eILI8K"
      }
    },
    {
      "cell_type": "markdown",
      "source": [
        "Set up programming environment to use code to send prompts to OpenAI's cloud-hosted service."
      ],
      "metadata": {
        "id": "2ZJi7Vb9Lpv6"
      }
    },
    {
      "cell_type": "code",
      "source": [
        "import openai\n",
        "import os\n",
        "from google.colab import userdata\n",
        "\n",
        "# openai.api_key = os.getenv(\"OPENAI_API_KEY\")\n",
        "openai.api_key = userdata.get('openai_api_key')\n",
        "\n",
        "def llm_response(prompt):\n",
        "    # response = openai.ChatCompletion.create(\n",
        "    response = openai.chat.completions.create(\n",
        "        model='gpt-3.5-turbo',\n",
        "        messages=[{'role':'user','content':prompt}],\n",
        "        temperature=0\n",
        "    )\n",
        "    # return response.choices[0].message['content']\n",
        "    return response.choices[0].message.content"
      ],
      "metadata": {
        "id": "n5xiL3cTLrHe"
      },
      "execution_count": null,
      "outputs": []
    },
    {
      "cell_type": "markdown",
      "source": [
        "Create a list of reviews."
      ],
      "metadata": {
        "id": "uacKEGjhL0IS"
      }
    },
    {
      "cell_type": "code",
      "source": [
        "all_reviews = [\n",
        "    'The mochi is excellent!',\n",
        "    'Best soup dumplings I have ever eaten.',\n",
        "    'Not worth the 3 month wait for a reservation.',\n",
        "    'The colorful tablecloths made me smile!',\n",
        "    'The pasta was cold.'\n",
        "]\n",
        "\n",
        "all_reviews"
      ],
      "metadata": {
        "id": "-oIQv9EdL1St"
      },
      "execution_count": null,
      "outputs": []
    },
    {
      "cell_type": "markdown",
      "source": [
        "Classify the reviews as positive or negative."
      ],
      "metadata": {
        "id": "58V0ySwZL5YY"
      }
    },
    {
      "cell_type": "code",
      "source": [
        "all_sentiments = []\n",
        "for review in all_reviews:\n",
        "    prompt = f'''\n",
        "        Classify the following review\n",
        "        as having either a positive or\n",
        "        negative sentiment. State your answer\n",
        "        as a single word, either \"positive\" or\n",
        "        \"negative\":\n",
        "\n",
        "        {review}\n",
        "        '''\n",
        "    response = llm_response(prompt)\n",
        "    all_sentiments.append(response)\n",
        "\n",
        "all_sentiments"
      ],
      "metadata": {
        "id": "lz2nYBnlL9KW"
      },
      "execution_count": null,
      "outputs": []
    },
    {
      "cell_type": "markdown",
      "source": [
        "Count the number of positive and negative reviews"
      ],
      "metadata": {
        "id": "ibtj7WkKMBl-"
      }
    },
    {
      "cell_type": "code",
      "source": [
        "num_positive = 0\n",
        "num_negative = 0\n",
        "for sentiment in all_sentiments:\n",
        "    if sentiment == 'positive':\n",
        "        num_positive += 1\n",
        "    elif sentiment == 'negative':\n",
        "        num_negative += 1\n",
        "print(f\"There are {num_positive} positive and {num_negative} negative reviews.\")"
      ],
      "metadata": {
        "id": "qT4ecfWBMFKm"
      },
      "execution_count": null,
      "outputs": []
    }
  ]
}