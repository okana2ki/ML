{
  "nbformat": 4,
  "nbformat_minor": 0,
  "metadata": {
    "colab": {
      "provenance": [],
      "toc_visible": true,
      "authorship_tag": "ABX9TyMMcsvGkagZLqqxh1ogn0pX",
      "include_colab_link": true
    },
    "kernelspec": {
      "name": "python3",
      "display_name": "Python 3"
    },
    "language_info": {
      "name": "python"
    }
  },
  "cells": [
    {
      "cell_type": "markdown",
      "metadata": {
        "id": "view-in-github",
        "colab_type": "text"
      },
      "source": [
        "<a href=\"https://colab.research.google.com/github/okana2ki/ML/blob/main/scikitlearn.ipynb\" target=\"_parent\"><img src=\"https://colab.research.google.com/assets/colab-badge.svg\" alt=\"Open In Colab\"/></a>"
      ]
    },
    {
      "cell_type": "markdown",
      "source": [
        "# scikitlearn入門"
      ],
      "metadata": {
        "id": "wk8CwJI14GqW"
      }
    },
    {
      "cell_type": "code",
      "execution_count": 1,
      "metadata": {
        "colab": {
          "base_uri": "https://localhost:8080/"
        },
        "id": "IquMz2FN4D6J",
        "outputId": "3632e31d-63dc-4bd2-e06c-891807adcdf2"
      },
      "outputs": [
        {
          "output_type": "stream",
          "name": "stdout",
          "text": [
            "正解率: 1.0\n"
          ]
        }
      ],
      "source": [
        "# 必要なライブラリをインポート\n",
        "from sklearn import datasets\n",
        "from sklearn.model_selection import train_test_split\n",
        "from sklearn.neighbors import KNeighborsClassifier\n",
        "\n",
        "# Irisデータセットを読み込む\n",
        "iris = datasets.load_iris()\n",
        "\n",
        "# データを訓練用とテスト用に分割する\n",
        "X_train, X_test, y_train, y_test = train_test_split(iris.data, iris.target, test_size=0.2, random_state=42)\n",
        "\n",
        "# K近傍法の分類器を作成する\n",
        "knn = KNeighborsClassifier(n_neighbors=3)\n",
        "\n",
        "# 分類器を訓練する\n",
        "knn.fit(X_train, y_train)\n",
        "\n",
        "# テストデータに対する予測を行う\n",
        "y_pred = knn.predict(X_test)\n",
        "\n",
        "# 分類器の精度を評価する\n",
        "accuracy = knn.score(X_test, y_test)\n",
        "\n",
        "# 精度を出力する\n",
        "print(f\"正解率: {accuracy}\")"
      ]
    },
    {
      "cell_type": "code",
      "source": [
        "# 必要なライブラリをインポート\n",
        "from sklearn.datasets import load_iris\n",
        "from sklearn.model_selection import train_test_split\n",
        "from sklearn.linear_model import LogisticRegression\n",
        "from sklearn.metrics import accuracy_score\n",
        "\n",
        "# Irisデータセットを読み込む\n",
        "iris = datasets.load_iris()\n",
        "\n",
        "# データを訓練用とテスト用に分割する\n",
        "X_train, X_test, y_train, y_test = train_test_split(iris.data, iris.target, test_size=0.2, random_state=42)\n",
        "\n",
        "# ロジスティック回帰モデルを作成\n",
        "model = LogisticRegression()\n",
        "\n",
        "# モデルを訓練\n",
        "model.fit(X_train, y_train)\n",
        "\n",
        "# テストデータに対する予測を行う\n",
        "y_pred = model.predict(X_test)\n",
        "\n",
        "# モデルの精度を評価\n",
        "accuracy = accuracy_score(y_test, y_pred)\n",
        "\n",
        "# 精度を出力\n",
        "print(\"正解率:\", accuracy)"
      ],
      "metadata": {
        "colab": {
          "base_uri": "https://localhost:8080/"
        },
        "id": "gHcvXGj_6GA-",
        "outputId": "e7962c4b-0cca-4cd0-d631-742b09117ca8"
      },
      "execution_count": 2,
      "outputs": [
        {
          "output_type": "stream",
          "name": "stdout",
          "text": [
            "正解率: 1.0\n"
          ]
        },
        {
          "output_type": "stream",
          "name": "stderr",
          "text": [
            "/usr/local/lib/python3.10/dist-packages/sklearn/linear_model/_logistic.py:458: ConvergenceWarning: lbfgs failed to converge (status=1):\n",
            "STOP: TOTAL NO. of ITERATIONS REACHED LIMIT.\n",
            "\n",
            "Increase the number of iterations (max_iter) or scale the data as shown in:\n",
            "    https://scikit-learn.org/stable/modules/preprocessing.html\n",
            "Please also refer to the documentation for alternative solver options:\n",
            "    https://scikit-learn.org/stable/modules/linear_model.html#logistic-regression\n",
            "  n_iter_i = _check_optimize_result(\n"
          ]
        }
      ]
    }
  ]
}