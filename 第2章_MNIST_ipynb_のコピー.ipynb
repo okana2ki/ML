{
  "nbformat": 4,
  "nbformat_minor": 0,
  "metadata": {
    "colab": {
      "provenance": [],
      "include_colab_link": true
    },
    "kernelspec": {
      "name": "python3",
      "display_name": "Python 3"
    },
    "language_info": {
      "name": "python"
    }
  },
  "cells": [
    {
      "cell_type": "markdown",
      "metadata": {
        "id": "view-in-github",
        "colab_type": "text"
      },
      "source": [
        "<a href=\"https://colab.research.google.com/github/okana2ki/ML/blob/main/%E7%AC%AC2%E7%AB%A0_MNIST_ipynb_%E3%81%AE%E3%82%B3%E3%83%94%E3%83%BC.ipynb\" target=\"_parent\"><img src=\"https://colab.research.google.com/assets/colab-badge.svg\" alt=\"Open In Colab\"/></a>"
      ]
    },
    {
      "cell_type": "markdown",
      "source": [
        "https://weblabo.oscasierra.net/python/keras-mnist-sample.html"
      ],
      "metadata": {
        "id": "Ju_-r5bU7uEg"
      }
    },
    {
      "cell_type": "code",
      "source": [
        "import keras\n",
        "from keras.datasets import mnist\n",
        "from keras.models import Sequential\n",
        "from keras.layers import Dense, Dropout, InputLayer\n",
        "from keras.optimizers import RMSprop\n",
        "# MNISTデータを読込む\n",
        "(X_train, y_train), (X_test, y_test) = mnist.load_data()"
      ],
      "metadata": {
        "id": "kmMvRwd10Zw_"
      },
      "execution_count": 1,
      "outputs": []
    },
    {
      "cell_type": "code",
      "source": [
        "print(f\"X_train(学習用の画像データのサイズ) : {X_train.shape}\")\n",
        "print(f\"y_train(学習データの正解ラベルのサイズ) : {y_train.shape}\")\n",
        "print(f\"X_test(検証用の画像データのサイズ) : {X_test.shape}\")\n",
        "print(f\"y_test(検証データの正解ラベルのサイズ) : {y_test.shape}\")"
      ],
      "metadata": {
        "colab": {
          "base_uri": "https://localhost:8080/"
        },
        "id": "DOTt9_Zj_bFl",
        "outputId": "5ab6f4b0-009f-4fd9-e1de-220936af802f"
      },
      "execution_count": 2,
      "outputs": [
        {
          "output_type": "stream",
          "name": "stdout",
          "text": [
            "X_train(学習用の画像データのサイズ) : (60000, 28, 28)\n",
            "y_train(学習データの正解ラベルのサイズ) : (60000,)\n",
            "X_test(検証用の画像データのサイズ) : (10000, 28, 28)\n",
            "y_test(検証データの正解ラベルのサイズ) : (10000,)\n"
          ]
        }
      ]
    },
    {
      "cell_type": "code",
      "source": [
        "import matplotlib.pyplot as plt\n",
        "sample = 0\n",
        "image = X_test[sample]\n",
        "\n",
        "# plot the sample\n",
        "fig = plt.figure\n",
        "plt.imshow(image, cmap='gray')\n",
        "plt.show()"
      ],
      "metadata": {
        "colab": {
          "base_uri": "https://localhost:8080/",
          "height": 430
        },
        "id": "7Ximx1320XLt",
        "outputId": "27a772bd-c0db-4c20-95c7-a2339989c616"
      },
      "execution_count": 3,
      "outputs": [
        {
          "output_type": "display_data",
          "data": {
            "text/plain": [
              "<Figure size 640x480 with 1 Axes>"
            ],
            "image/png": "[encoded data removed]"
          },
          "metadata": {}
        }
      ]
    },
    {
      "cell_type": "markdown",
      "source": [
        "さて、この28行28列のデータですが、コンピュータで処理しやすいよう、まず1行に並べてしまいます（あるいは1列にならべてしまいます）。"
      ],
      "metadata": {
        "id": "SYyqDfRQUkNy"
      }
    },
    {
      "cell_type": "code",
      "source": [
        "X_train  = X_train.reshape(60000, 784)\n",
        "X_test   = X_test.reshape(10000, 784)\n",
        "print(\"X_train.shape(学習用の画像データ) : \", X_train.shape)\n",
        "print(\"y_train_shape(学習用の正解データ) : \", y_train.shape)\n",
        "print(\"X_test.shape(検証用の画像データ) : \", X_test.shape)\n",
        "print(\"y_test.shape(検証用の正解データ) : \", y_test.shape)"
      ],
      "metadata": {
        "id": "doolUTr_7hqv",
        "colab": {
          "base_uri": "https://localhost:8080/"
        },
        "outputId": "963e2b81-eab0-43da-f170-0f718dd7bf26"
      },
      "execution_count": 4,
      "outputs": [
        {
          "output_type": "stream",
          "name": "stdout",
          "text": [
            "X_train.shape(学習用の画像データ) :  (60000, 784)\n",
            "y_train_shape(学習用の正解データ) :  (60000,)\n",
            "X_test.shape(検証用の画像データ) :  (10000, 784)\n",
            "y_test.shape(検証用の正解データ) :  (10000,)\n"
          ]
        }
      ]
    },
    {
      "cell_type": "markdown",
      "source": [],
      "metadata": {
        "id": "-FOE4N2pUp3_"
      }
    },
    {
      "cell_type": "markdown",
      "source": [
        "MNIST のピクセル情報を計算の都合上、0-1.0 の範囲の数値にする。\n",
        "データを小数点計算に有利な float に変換してから255 で割る。"
      ],
      "metadata": {
        "id": "pjWP6Sxh7nj1"
      }
    },
    {
      "cell_type": "code",
      "source": [
        "# 最初にデータを小数点を含む値(float) 型に変換\n",
        "X_train = X_train.astype('float32')\n",
        "X_test  = X_test.astype('float32')\n",
        "\n",
        "# 0-255 のデータを 0-1 の範囲に変換\n",
        "X_train /= 255\n",
        "X_test  /= 255"
      ],
      "metadata": {
        "id": "Tdkct6Dd7oqR"
      },
      "execution_count": 5,
      "outputs": []
    },
    {
      "cell_type": "markdown",
      "source": [
        "次に正解ラベルをワンホットエンコーディングします。例えば「5」という数字であれば [0,0,0,0,0,1,0,0,0,0] と、6番目（0起算なので）だけ1で、残りは0のリストに変換します。カテゴリ化と言い換えることもできます。kerasの機能を使います。"
      ],
      "metadata": {
        "id": "pcV2qF9A71FH"
      }
    },
    {
      "cell_type": "code",
      "source": [
        "y_train = keras.utils.to_categorical(y_train, 10)\n",
        "y_test  = keras.utils.to_categorical(y_test, 10)"
      ],
      "metadata": {
        "id": "p0WXCLpG75kC"
      },
      "execution_count": 6,
      "outputs": []
    },
    {
      "cell_type": "markdown",
      "source": [
        "さて、これでデータの準備が終わりました。\n",
        "次に、学習データをAIに与え、その結果を使ってテストデータの精度を検証します。\n",
        "AIは、学習データ（画像）とそのラベル（描かれている数字）の対応を学習します。続いて、その学習結果を使って、学習には使っていないデータ、つまりテストデータの画像から、描かれている数字を予測します。テストデータには回答のラベルがあるので、AIの予測結果（精度）を評価できるわけです。\n",
        "\n",
        "学習では、AIは与えられた画像からラベルを予測し、それが答えと一致してるかどうかを調べ、一致していない場合、もう一度学習しなおすことを繰り返します。\n",
        "学習ステップは、ディープラーニングとして知られるアルゴリズムで行われます。ディープラーニングの基本的アイデアは、\n",
        "ニューラルネットワークです。という入力（画像）と出力kerasライブラリは、これをうまく実行してくれます。"
      ],
      "metadata": {
        "id": "cRo5v4RQ8FrW"
      }
    },
    {
      "cell_type": "code",
      "source": [
        "model = Sequential()\n",
        "model.add(InputLayer(input_shape=(784,)))\n",
        "model.add(Dense(10, activation='softmax'))\n",
        "model.compile(loss='categorical_crossentropy', optimizer='rmsprop', metrics=['accuracy'])"
      ],
      "metadata": {
        "id": "geBTpGIW8G35",
        "colab": {
          "base_uri": "https://localhost:8080/"
        },
        "outputId": "eb030789-37d8-4013-8313-c894b1c1b193"
      },
      "execution_count": 7,
      "outputs": [
        {
          "output_type": "stream",
          "name": "stderr",
          "text": [
            "/usr/local/lib/python3.10/dist-packages/keras/src/layers/core/input_layer.py:26: UserWarning: Argument `input_shape` is deprecated. Use `shape` instead.\n",
            "  warnings.warn(\n"
          ]
        }
      ]
    },
    {
      "cell_type": "markdown",
      "source": [
        "初めに学習内容を保存するモデルを用意します。`Sequential` は、ここでは入力から出力への処理が流れることを表していると考えてください。\n",
        "次にモデルに入力を加えます。入力データの次元（28行28列を平たん化した784の数値であること）を指定します。\n",
        "3行目は、入力された画像のラベルが10種類あることを表しています。softmaxという指定は、画像ごとに各ラベル（数字）の推定確率を求めるという指示です。\n",
        "最後の4行目で学習の方法を指定しています。学習は入力と出力が一致するよう、繰り返し調整していきますが、その方法を指定しています。\n"
      ],
      "metadata": {
        "id": "WKdy5bTZ8I9c"
      }
    },
    {
      "cell_type": "code",
      "source": [
        "history = model.fit(X_train, y_train, batch_size=128, epochs=20, verbose=1, validation_data=(X_test, y_test))"
      ],
      "metadata": {
        "id": "6Mr9O1YX8LjC",
        "colab": {
          "base_uri": "https://localhost:8080/"
        },
        "outputId": "a1501c99-72dc-4ca9-cb4b-7b15f4ecaabf"
      },
      "execution_count": 8,
      "outputs": [
        {
          "output_type": "stream",
          "name": "stdout",
          "text": [
            "Epoch 1/20\n",
            "\u001b[1m469/469\u001b[0m \u001b[32m━━━━━━━━━━━━━━━━━━━━\u001b[0m\u001b[37m\u001b[0m \u001b[1m2s\u001b[0m 3ms/step - accuracy: 0.7716 - loss: 0.9314 - val_accuracy: 0.9082 - val_loss: 0.3399\n",
            "Epoch 2/20\n",
            "\u001b[1m469/469\u001b[0m \u001b[32m━━━━━━━━━━━━━━━━━━━━\u001b[0m\u001b[37m\u001b[0m \u001b[1m1s\u001b[0m 2ms/step - accuracy: 0.9036 - loss: 0.3455 - val_accuracy: 0.9172 - val_loss: 0.2995\n",
            "Epoch 3/20\n",
            "\u001b[1m469/469\u001b[0m \u001b[32m━━━━━━━━━━━━━━━━━━━━\u001b[0m\u001b[37m\u001b[0m \u001b[1m1s\u001b[0m 2ms/step - accuracy: 0.9146 - loss: 0.3062 - val_accuracy: 0.9207 - val_loss: 0.2874\n",
            "Epoch 4/20\n",
            "\u001b[1m469/469\u001b[0m \u001b[32m━━━━━━━━━━━━━━━━━━━━\u001b[0m\u001b[37m\u001b[0m \u001b[1m1s\u001b[0m 2ms/step - accuracy: 0.9209 - loss: 0.2865 - val_accuracy: 0.9218 - val_loss: 0.2791\n",
            "Epoch 5/20\n",
            "\u001b[1m469/469\u001b[0m \u001b[32m━━━━━━━━━━━━━━━━━━━━\u001b[0m\u001b[37m\u001b[0m \u001b[1m2s\u001b[0m 3ms/step - accuracy: 0.9207 - loss: 0.2857 - val_accuracy: 0.9235 - val_loss: 0.2732\n",
            "Epoch 6/20\n",
            "\u001b[1m469/469\u001b[0m \u001b[32m━━━━━━━━━━━━━━━━━━━━\u001b[0m\u001b[37m\u001b[0m \u001b[1m2s\u001b[0m 2ms/step - accuracy: 0.9228 - loss: 0.2772 - val_accuracy: 0.9232 - val_loss: 0.2731\n",
            "Epoch 7/20\n",
            "\u001b[1m469/469\u001b[0m \u001b[32m━━━━━━━━━━━━━━━━━━━━\u001b[0m\u001b[37m\u001b[0m \u001b[1m1s\u001b[0m 2ms/step - accuracy: 0.9251 - loss: 0.2708 - val_accuracy: 0.9239 - val_loss: 0.2695\n",
            "Epoch 8/20\n",
            "\u001b[1m469/469\u001b[0m \u001b[32m━━━━━━━━━━━━━━━━━━━━\u001b[0m\u001b[37m\u001b[0m \u001b[1m1s\u001b[0m 2ms/step - accuracy: 0.9258 - loss: 0.2683 - val_accuracy: 0.9256 - val_loss: 0.2674\n",
            "Epoch 9/20\n",
            "\u001b[1m469/469\u001b[0m \u001b[32m━━━━━━━━━━━━━━━━━━━━\u001b[0m\u001b[37m\u001b[0m \u001b[1m1s\u001b[0m 2ms/step - accuracy: 0.9288 - loss: 0.2641 - val_accuracy: 0.9247 - val_loss: 0.2675\n",
            "Epoch 10/20\n",
            "\u001b[1m469/469\u001b[0m \u001b[32m━━━━━━━━━━━━━━━━━━━━\u001b[0m\u001b[37m\u001b[0m \u001b[1m1s\u001b[0m 2ms/step - accuracy: 0.9265 - loss: 0.2644 - val_accuracy: 0.9260 - val_loss: 0.2686\n",
            "Epoch 11/20\n",
            "\u001b[1m469/469\u001b[0m \u001b[32m━━━━━━━━━━━━━━━━━━━━\u001b[0m\u001b[37m\u001b[0m \u001b[1m1s\u001b[0m 2ms/step - accuracy: 0.9277 - loss: 0.2643 - val_accuracy: 0.9260 - val_loss: 0.2664\n",
            "Epoch 12/20\n",
            "\u001b[1m469/469\u001b[0m \u001b[32m━━━━━━━━━━━━━━━━━━━━\u001b[0m\u001b[37m\u001b[0m \u001b[1m1s\u001b[0m 2ms/step - accuracy: 0.9291 - loss: 0.2585 - val_accuracy: 0.9256 - val_loss: 0.2670\n",
            "Epoch 13/20\n",
            "\u001b[1m469/469\u001b[0m \u001b[32m━━━━━━━━━━━━━━━━━━━━\u001b[0m\u001b[37m\u001b[0m \u001b[1m1s\u001b[0m 2ms/step - accuracy: 0.9297 - loss: 0.2603 - val_accuracy: 0.9274 - val_loss: 0.2646\n",
            "Epoch 14/20\n",
            "\u001b[1m469/469\u001b[0m \u001b[32m━━━━━━━━━━━━━━━━━━━━\u001b[0m\u001b[37m\u001b[0m \u001b[1m1s\u001b[0m 2ms/step - accuracy: 0.9287 - loss: 0.2654 - val_accuracy: 0.9265 - val_loss: 0.2658\n",
            "Epoch 15/20\n",
            "\u001b[1m469/469\u001b[0m \u001b[32m━━━━━━━━━━━━━━━━━━━━\u001b[0m\u001b[37m\u001b[0m \u001b[1m2s\u001b[0m 3ms/step - accuracy: 0.9313 - loss: 0.2540 - val_accuracy: 0.9280 - val_loss: 0.2647\n",
            "Epoch 16/20\n",
            "\u001b[1m469/469\u001b[0m \u001b[32m━━━━━━━━━━━━━━━━━━━━\u001b[0m\u001b[37m\u001b[0m \u001b[1m2s\u001b[0m 2ms/step - accuracy: 0.9308 - loss: 0.2542 - val_accuracy: 0.9273 - val_loss: 0.2649\n",
            "Epoch 17/20\n",
            "\u001b[1m469/469\u001b[0m \u001b[32m━━━━━━━━━━━━━━━━━━━━\u001b[0m\u001b[37m\u001b[0m \u001b[1m1s\u001b[0m 2ms/step - accuracy: 0.9305 - loss: 0.2569 - val_accuracy: 0.9265 - val_loss: 0.2668\n",
            "Epoch 18/20\n",
            "\u001b[1m469/469\u001b[0m \u001b[32m━━━━━━━━━━━━━━━━━━━━\u001b[0m\u001b[37m\u001b[0m \u001b[1m1s\u001b[0m 2ms/step - accuracy: 0.9313 - loss: 0.2504 - val_accuracy: 0.9267 - val_loss: 0.2662\n",
            "Epoch 19/20\n",
            "\u001b[1m469/469\u001b[0m \u001b[32m━━━━━━━━━━━━━━━━━━━━\u001b[0m\u001b[37m\u001b[0m \u001b[1m1s\u001b[0m 2ms/step - accuracy: 0.9305 - loss: 0.2564 - val_accuracy: 0.9283 - val_loss: 0.2635\n",
            "Epoch 20/20\n",
            "\u001b[1m469/469\u001b[0m \u001b[32m━━━━━━━━━━━━━━━━━━━━\u001b[0m\u001b[37m\u001b[0m \u001b[1m1s\u001b[0m 2ms/step - accuracy: 0.9309 - loss: 0.2537 - val_accuracy: 0.9285 - val_loss: 0.2633\n"
          ]
        }
      ]
    },
    {
      "cell_type": "markdown",
      "source": [
        "評価¶\n",
        "　それでは最後に、出来上がった人工知能モデルが、どれだけ優秀なのかを評価しましょう。 出来上がった人工知能モデルに検証用データ (x_test と y_test )を与えて、正解率を求めて評価します。"
      ],
      "metadata": {
        "id": "9JdSFUX-8OH4"
      }
    },
    {
      "cell_type": "markdown",
      "source": [
        "accuracy とは日本語で「正確さ」という意味で、今回の場合であれば「画像を認識できる確率」を表しています。\n",
        "\n",
        "学習経過の可視化\n",
        "　ここまでで、人工知能のモデルの作成と評価は完了です。 結果として、0.92 と言うスコアを持つ賢さの人工知能を作り出すことができました。 さて、気になるのは「成果のある学習が行えたのか？ 学習して賢くなったのか？」ということではないでしょうか。 学習を繰り返すたびに賢くなっていることが、視覚的にわかるととても安心できます。\n",
        "\n",
        "　上で実行した model.fit() の戻り値 history から、学習経過を可視化することができます。 history には学習状況が格納されており、次のようなものを含んでいます。\n",
        "\n",
        "　loss : loss は日本語で損失と訳されます。 ここでの loss は、学習用データで学習を終えた際の「損失」の値です。 値の意味としては、小さい数字ほど正しい結果を出せるように学習できたことを表し、逆に値が大きい場合は正しい結果を出せていないことを表します。\n",
        "\n",
        "　 val_loss : val_loss は、検証用データを与えて試した際に、どれだけ正しい結果を出せたのかということを表します。 値が小さいほど正しい結果を出せ、値が大きいほど正しい結果をだせていないことを表します。\n",
        "\n",
        "　総じて、loss は学習状況を示す指標となる数字だと覚えておけばよいでしょう。\n",
        "\n",
        "　総じて、loss は学習状況を示す指標となる数字だと覚えておけばよいでしょう。\n",
        "\n",
        "項目\t概要\n",
        "loss\t学習用データを与えた際の損失値。 簡単にいうと、この値が小さければ小さいほど賢くなったことを表し、逆に値が大きければ学習が不十分だということを表します。\n",
        "val_loss\t検証データを与えた際の損失値。 意味は loss 同様。\n",
        "　この loss と val_loss の値を二次元グラフにして表示してみます。 縦軸には loss の値を、横軸には学習回数(ここでは20回学習させている)を割り当てて、学習ごとの loss と val_loss をグラフにしてみます。\n"
      ],
      "metadata": {
        "id": "t4-YePVb8TIE"
      }
    },
    {
      "cell_type": "code",
      "source": [
        "loss     = history.history['loss']\n",
        "val_loss = history.history['val_loss']\n",
        "\n",
        "nb_epoch = len(loss)\n",
        "plt.plot(range(nb_epoch), loss,     marker='.', label='loss')\n",
        "plt.plot(range(nb_epoch), val_loss, marker='.', label='val_loss')\n",
        "plt.legend(loc='best', fontsize=10)\n",
        "plt.grid()\n",
        "plt.xlabel('epoch')\n",
        "plt.ylabel('loss')\n",
        "plt.show()"
      ],
      "metadata": {
        "id": "9ssVKHGD8etd",
        "colab": {
          "base_uri": "https://localhost:8080/",
          "height": 449
        },
        "outputId": "be400296-f670-4dfc-e938-12aac43f6492"
      },
      "execution_count": 9,
      "outputs": [
        {
          "output_type": "display_data",
          "data": {
            "text/plain": [
              "<Figure size 640x480 with 1 Axes>"
            ],
            "image/png": "[encoded data removed]"
          },
          "metadata": {}
        }
      ]
    },
    {
      "cell_type": "markdown",
      "source": [
        "\n",
        "\n",
        "グラフからは、学習が進むにつれて loss の値が徐々に下がり、学習が順調に行われているようにみえます。\n",
        "ただ  val_loss のほうは、6回目以降は、下がったり、上がったりの繰り返しで、テストデータについては学習の成果が認められないと判断されます。\n",
        "\n",
        "結局、テストデータに対してどれくらいの精度の予測ができたのかを確認してみましょう。"
      ],
      "metadata": {
        "id": "lHho-ly28jjv"
      }
    },
    {
      "cell_type": "code",
      "source": [
        "score = model.evaluate(X_test, y_test, verbose=1)\n",
        "print(f'テストデータ：loss: {score[0]}')\n",
        "print(f'テストデータ：Test accuracy: {score[1]}')"
      ],
      "metadata": {
        "id": "cTDmmv808QwY",
        "colab": {
          "base_uri": "https://localhost:8080/"
        },
        "outputId": "4498fae1-673f-4f4e-ec8f-e46751fd98cf"
      },
      "execution_count": null,
      "outputs": [
        {
          "output_type": "stream",
          "name": "stdout",
          "text": [
            "313/313 [==============================] - 1s 2ms/step - loss: 59.2296 - accuracy: 0.9013\n",
            "テストデータ：loss: 59.22964859008789\n",
            "テストデータ：Test accuracy: 0.9013000130653381\n"
          ]
        }
      ]
    },
    {
      "cell_type": "code",
      "execution_count": null,
      "metadata": {
        "colab": {
          "base_uri": "https://localhost:8080/"
        },
        "id": "38j9ZfchxtpJ",
        "outputId": "bf1c9d7e-2a89-4333-c75f-e220502d7659"
      },
      "outputs": [
        {
          "output_type": "stream",
          "name": "stdout",
          "text": [
            "Downloading data from https://storage.googleapis.com/tensorflow/tf-keras-datasets/mnist.npz\n",
            "11490434/11490434 [==============================] - 1s 0us/step\n",
            "Epoch 1/20\n",
            "469/469 [==============================] - 6s 11ms/step - loss: 0.6139 - accuracy: 0.8440 - val_loss: 0.3436 - val_accuracy: 0.9081\n",
            "Epoch 2/20\n",
            "469/469 [==============================] - 4s 8ms/step - loss: 0.3340 - accuracy: 0.9066 - val_loss: 0.3024 - val_accuracy: 0.9153\n",
            "Epoch 3/20\n",
            "469/469 [==============================] - 4s 8ms/step - loss: 0.3047 - accuracy: 0.9144 - val_loss: 0.2895 - val_accuracy: 0.9188\n",
            "Epoch 4/20\n",
            "469/469 [==============================] - 3s 6ms/step - loss: 0.2912 - accuracy: 0.9186 - val_loss: 0.2811 - val_accuracy: 0.9201\n",
            "Epoch 5/20\n",
            "469/469 [==============================] - 3s 7ms/step - loss: 0.2832 - accuracy: 0.9212 - val_loss: 0.2747 - val_accuracy: 0.9237\n",
            "Epoch 6/20\n",
            "469/469 [==============================] - 2s 5ms/step - loss: 0.2771 - accuracy: 0.9227 - val_loss: 0.2733 - val_accuracy: 0.9242\n",
            "Epoch 7/20\n",
            "469/469 [==============================] - 1s 3ms/step - loss: 0.2735 - accuracy: 0.9240 - val_loss: 0.2723 - val_accuracy: 0.9243\n",
            "Epoch 8/20\n",
            "469/469 [==============================] - 1s 3ms/step - loss: 0.2700 - accuracy: 0.9251 - val_loss: 0.2695 - val_accuracy: 0.9239\n",
            "Epoch 9/20\n",
            "469/469 [==============================] - 1s 3ms/step - loss: 0.2673 - accuracy: 0.9261 - val_loss: 0.2676 - val_accuracy: 0.9253\n",
            "Epoch 10/20\n",
            "469/469 [==============================] - 1s 3ms/step - loss: 0.2649 - accuracy: 0.9273 - val_loss: 0.2671 - val_accuracy: 0.9265\n",
            "Epoch 11/20\n",
            "469/469 [==============================] - 1s 3ms/step - loss: 0.2628 - accuracy: 0.9273 - val_loss: 0.2678 - val_accuracy: 0.9260\n",
            "Epoch 12/20\n",
            "469/469 [==============================] - 1s 3ms/step - loss: 0.2615 - accuracy: 0.9286 - val_loss: 0.2653 - val_accuracy: 0.9252\n",
            "Epoch 13/20\n",
            "469/469 [==============================] - 1s 3ms/step - loss: 0.2597 - accuracy: 0.9290 - val_loss: 0.2664 - val_accuracy: 0.9266\n",
            "Epoch 14/20\n",
            "469/469 [==============================] - 2s 4ms/step - loss: 0.2585 - accuracy: 0.9294 - val_loss: 0.2651 - val_accuracy: 0.9278\n",
            "Epoch 15/20\n",
            "469/469 [==============================] - 2s 4ms/step - loss: 0.2570 - accuracy: 0.9294 - val_loss: 0.2672 - val_accuracy: 0.9271\n",
            "Epoch 16/20\n",
            "469/469 [==============================] - 1s 3ms/step - loss: 0.2561 - accuracy: 0.9300 - val_loss: 0.2674 - val_accuracy: 0.9262\n",
            "Epoch 17/20\n",
            "469/469 [==============================] - 1s 3ms/step - loss: 0.2551 - accuracy: 0.9301 - val_loss: 0.2659 - val_accuracy: 0.9271\n",
            "Epoch 18/20\n",
            "469/469 [==============================] - 1s 3ms/step - loss: 0.2540 - accuracy: 0.9310 - val_loss: 0.2661 - val_accuracy: 0.9264\n",
            "Epoch 19/20\n",
            "469/469 [==============================] - 1s 3ms/step - loss: 0.2533 - accuracy: 0.9315 - val_loss: 0.2652 - val_accuracy: 0.9283\n",
            "Epoch 20/20\n",
            "469/469 [==============================] - 1s 3ms/step - loss: 0.2524 - accuracy: 0.9315 - val_loss: 0.2631 - val_accuracy: 0.9282\n",
            "313/313 [==============================] - 1s 2ms/step - loss: 0.2631 - accuracy: 0.9282\n",
            "\n",
            "Test loss: 0.2630884647369385\n",
            "Test accuracy: 0.9282000064849854\n"
          ]
        }
      ],
      "source": [
        "\n",
        "# MNISTデータを加工する\n",
        "x_train = x_train.reshape(60000, 784)\n",
        "x_test = x_test.reshape(10000, 784)\n",
        "x_train = x_train.astype('float32')\n",
        "x_test = x_test.astype('float32')\n",
        "x_train /= 255\n",
        "x_test /= 255\n",
        "y_train = keras.utils.to_categorical(y_train, 10)\n",
        "y_test = keras.utils.to_categorical(y_test, 10)\n",
        "# モデルの構築\n",
        "model = Sequential()\n",
        "model.add(InputLayer(input_shape=(784,)))\n",
        "model.add(Dense(10, activation='softmax'))\n",
        "model.compile(loss='categorical_crossentropy', optimizer='rmsprop', metrics=['accuracy'])\n",
        "# 学習\n",
        "epochs = 20\n",
        "batch_size = 128\n",
        "history = model.fit(x_train, y_train, batch_size=batch_size, epochs=epochs, verbose=1, validation_data=(x_test, y_test))\n",
        "# 検証\n",
        "score = model.evaluate(x_test, y_test, verbose=1)\n",
        "print()\n",
        "print('Test loss:', score[0])\n",
        "print('Test accuracy:', score[1])"
      ]
    },
    {
      "cell_type": "code",
      "source": [
        "import matplotlib.pyplot as plt\n",
        "for i in range(15):\n",
        "    plt.subplot(3, 5, i + 1)\n",
        "    plt.axis('off')\n",
        "    plt.title(y_train[i])\n",
        "    plt.imshow(x_train[i], cmap='gray')\n",
        "\n",
        "plt.show()"
      ],
      "metadata": {
        "colab": {
          "base_uri": "https://localhost:8080/",
          "height": 501
        },
        "id": "ilrST9yszPK6",
        "outputId": "1cd33fb3-eda9-4abb-ad2c-b219828907e0"
      },
      "execution_count": null,
      "outputs": [
        {
          "output_type": "error",
          "ename": "ValueError",
          "evalue": "The truth value of an array with more than one element is ambiguous. Use a.any() or a.all()",
          "traceback": [
            "\u001b[0;31m---------------------------------------------------------------------------\u001b[0m",
            "\u001b[0;31mValueError\u001b[0m                                Traceback (most recent call last)",
            "\u001b[0;32m<ipython-input-6-a2d80e1808ce>\u001b[0m in \u001b[0;36m<cell line: 1>\u001b[0;34m()\u001b[0m\n\u001b[1;32m      2\u001b[0m     \u001b[0mplt\u001b[0m\u001b[0;34m.\u001b[0m\u001b[0msubplot\u001b[0m\u001b[0;34m(\u001b[0m\u001b[0;36m3\u001b[0m\u001b[0;34m,\u001b[0m \u001b[0;36m5\u001b[0m\u001b[0;34m,\u001b[0m \u001b[0mi\u001b[0m \u001b[0;34m+\u001b[0m \u001b[0;36m1\u001b[0m\u001b[0;34m)\u001b[0m\u001b[0;34m\u001b[0m\u001b[0;34m\u001b[0m\u001b[0m\n\u001b[1;32m      3\u001b[0m     \u001b[0mplt\u001b[0m\u001b[0;34m.\u001b[0m\u001b[0maxis\u001b[0m\u001b[0;34m(\u001b[0m\u001b[0;34m'off'\u001b[0m\u001b[0;34m)\u001b[0m\u001b[0;34m\u001b[0m\u001b[0;34m\u001b[0m\u001b[0m\n\u001b[0;32m----> 4\u001b[0;31m     \u001b[0mplt\u001b[0m\u001b[0;34m.\u001b[0m\u001b[0mtitle\u001b[0m\u001b[0;34m(\u001b[0m\u001b[0my_train\u001b[0m\u001b[0;34m[\u001b[0m\u001b[0mi\u001b[0m\u001b[0;34m]\u001b[0m\u001b[0;34m)\u001b[0m\u001b[0;34m\u001b[0m\u001b[0;34m\u001b[0m\u001b[0m\n\u001b[0m\u001b[1;32m      5\u001b[0m     \u001b[0mplt\u001b[0m\u001b[0;34m.\u001b[0m\u001b[0mimshow\u001b[0m\u001b[0;34m(\u001b[0m\u001b[0mx_train\u001b[0m\u001b[0;34m[\u001b[0m\u001b[0mi\u001b[0m\u001b[0;34m]\u001b[0m\u001b[0;34m,\u001b[0m \u001b[0mcmap\u001b[0m\u001b[0;34m=\u001b[0m\u001b[0;34m'gray'\u001b[0m\u001b[0;34m)\u001b[0m\u001b[0;34m\u001b[0m\u001b[0;34m\u001b[0m\u001b[0m\n\u001b[1;32m      6\u001b[0m \u001b[0;34m\u001b[0m\u001b[0m\n",
            "\u001b[0;32m/usr/local/lib/python3.10/dist-packages/matplotlib/pyplot.py\u001b[0m in \u001b[0;36mtitle\u001b[0;34m(label, fontdict, loc, pad, y, **kwargs)\u001b[0m\n\u001b[1;32m   3082\u001b[0m \u001b[0;34m@\u001b[0m\u001b[0m_copy_docstring_and_deprecators\u001b[0m\u001b[0;34m(\u001b[0m\u001b[0mAxes\u001b[0m\u001b[0;34m.\u001b[0m\u001b[0mset_title\u001b[0m\u001b[0;34m)\u001b[0m\u001b[0;34m\u001b[0m\u001b[0;34m\u001b[0m\u001b[0m\n\u001b[1;32m   3083\u001b[0m \u001b[0;32mdef\u001b[0m \u001b[0mtitle\u001b[0m\u001b[0;34m(\u001b[0m\u001b[0mlabel\u001b[0m\u001b[0;34m,\u001b[0m \u001b[0mfontdict\u001b[0m\u001b[0;34m=\u001b[0m\u001b[0;32mNone\u001b[0m\u001b[0;34m,\u001b[0m \u001b[0mloc\u001b[0m\u001b[0;34m=\u001b[0m\u001b[0;32mNone\u001b[0m\u001b[0;34m,\u001b[0m \u001b[0mpad\u001b[0m\u001b[0;34m=\u001b[0m\u001b[0;32mNone\u001b[0m\u001b[0;34m,\u001b[0m \u001b[0;34m*\u001b[0m\u001b[0;34m,\u001b[0m \u001b[0my\u001b[0m\u001b[0;34m=\u001b[0m\u001b[0;32mNone\u001b[0m\u001b[0;34m,\u001b[0m \u001b[0;34m**\u001b[0m\u001b[0mkwargs\u001b[0m\u001b[0;34m)\u001b[0m\u001b[0;34m:\u001b[0m\u001b[0;34m\u001b[0m\u001b[0;34m\u001b[0m\u001b[0m\n\u001b[0;32m-> 3084\u001b[0;31m     return gca().set_title(\n\u001b[0m\u001b[1;32m   3085\u001b[0m         label, fontdict=fontdict, loc=loc, pad=pad, y=y, **kwargs)\n\u001b[1;32m   3086\u001b[0m \u001b[0;34m\u001b[0m\u001b[0m\n",
            "\u001b[0;32m/usr/local/lib/python3.10/dist-packages/matplotlib/axes/_axes.py\u001b[0m in \u001b[0;36mset_title\u001b[0;34m(self, label, fontdict, loc, pad, y, **kwargs)\u001b[0m\n\u001b[1;32m    174\u001b[0m             \u001b[0mpad\u001b[0m \u001b[0;34m=\u001b[0m \u001b[0mmpl\u001b[0m\u001b[0;34m.\u001b[0m\u001b[0mrcParams\u001b[0m\u001b[0;34m[\u001b[0m\u001b[0;34m'axes.titlepad'\u001b[0m\u001b[0;34m]\u001b[0m\u001b[0;34m\u001b[0m\u001b[0;34m\u001b[0m\u001b[0m\n\u001b[1;32m    175\u001b[0m         \u001b[0mself\u001b[0m\u001b[0;34m.\u001b[0m\u001b[0m_set_title_offset_trans\u001b[0m\u001b[0;34m(\u001b[0m\u001b[0mfloat\u001b[0m\u001b[0;34m(\u001b[0m\u001b[0mpad\u001b[0m\u001b[0;34m)\u001b[0m\u001b[0;34m)\u001b[0m\u001b[0;34m\u001b[0m\u001b[0;34m\u001b[0m\u001b[0m\n\u001b[0;32m--> 176\u001b[0;31m         \u001b[0mtitle\u001b[0m\u001b[0;34m.\u001b[0m\u001b[0mset_text\u001b[0m\u001b[0;34m(\u001b[0m\u001b[0mlabel\u001b[0m\u001b[0;34m)\u001b[0m\u001b[0;34m\u001b[0m\u001b[0;34m\u001b[0m\u001b[0m\n\u001b[0m\u001b[1;32m    177\u001b[0m         \u001b[0mtitle\u001b[0m\u001b[0;34m.\u001b[0m\u001b[0mupdate\u001b[0m\u001b[0;34m(\u001b[0m\u001b[0mdefault\u001b[0m\u001b[0;34m)\u001b[0m\u001b[0;34m\u001b[0m\u001b[0;34m\u001b[0m\u001b[0m\n\u001b[1;32m    178\u001b[0m         \u001b[0;32mif\u001b[0m \u001b[0mfontdict\u001b[0m \u001b[0;32mis\u001b[0m \u001b[0;32mnot\u001b[0m \u001b[0;32mNone\u001b[0m\u001b[0;34m:\u001b[0m\u001b[0;34m\u001b[0m\u001b[0;34m\u001b[0m\u001b[0m\n",
            "\u001b[0;32m/usr/local/lib/python3.10/dist-packages/matplotlib/text.py\u001b[0m in \u001b[0;36mset_text\u001b[0;34m(self, s)\u001b[0m\n\u001b[1;32m   1277\u001b[0m         \u001b[0;32mif\u001b[0m \u001b[0ms\u001b[0m \u001b[0;32mis\u001b[0m \u001b[0;32mNone\u001b[0m\u001b[0;34m:\u001b[0m\u001b[0;34m\u001b[0m\u001b[0;34m\u001b[0m\u001b[0m\n\u001b[1;32m   1278\u001b[0m             \u001b[0ms\u001b[0m \u001b[0;34m=\u001b[0m \u001b[0;34m''\u001b[0m\u001b[0;34m\u001b[0m\u001b[0;34m\u001b[0m\u001b[0m\n\u001b[0;32m-> 1279\u001b[0;31m         \u001b[0;32mif\u001b[0m \u001b[0ms\u001b[0m \u001b[0;34m!=\u001b[0m \u001b[0mself\u001b[0m\u001b[0;34m.\u001b[0m\u001b[0m_text\u001b[0m\u001b[0;34m:\u001b[0m\u001b[0;34m\u001b[0m\u001b[0;34m\u001b[0m\u001b[0m\n\u001b[0m\u001b[1;32m   1280\u001b[0m             \u001b[0mself\u001b[0m\u001b[0;34m.\u001b[0m\u001b[0m_text\u001b[0m \u001b[0;34m=\u001b[0m \u001b[0mstr\u001b[0m\u001b[0;34m(\u001b[0m\u001b[0ms\u001b[0m\u001b[0;34m)\u001b[0m\u001b[0;34m\u001b[0m\u001b[0;34m\u001b[0m\u001b[0m\n\u001b[1;32m   1281\u001b[0m             \u001b[0mself\u001b[0m\u001b[0;34m.\u001b[0m\u001b[0mstale\u001b[0m \u001b[0;34m=\u001b[0m \u001b[0;32mTrue\u001b[0m\u001b[0;34m\u001b[0m\u001b[0;34m\u001b[0m\u001b[0m\n",
            "\u001b[0;31mValueError\u001b[0m: The truth value of an array with more than one element is ambiguous. Use a.any() or a.all()"
          ]
        },
        {
          "output_type": "display_data",
          "data": {
            "text/plain": [
              "<Figure size 640x480 with 1 Axes>"
            ],
            "image/png": "[encoded data removed]"
          },
          "metadata": {}
        }
      ]
    },
    {
      "source": [
        "for i in range(15):\n",
        "    plt.subplot(3, 5, i + 1)\n",
        "    plt.axis('off')\n",
        "    plt.title(y_train[i][0])  # Extract the first element of y_train[i]\n",
        "    plt.imshow(X_train[i], cmap='gray')\n",
        "\n",
        "plt.show()"
      ],
      "cell_type": "code",
      "metadata": {
        "colab": {
          "base_uri": "https://localhost:8080/",
          "height": 362
        },
        "id": "mCQV2_XYzY3r",
        "outputId": "34dfc8c0-4825-4bf2-dcc8-491d72c9e27b"
      },
      "execution_count": null,
      "outputs": [
        {
          "output_type": "error",
          "ename": "NameError",
          "evalue": "name 'X_train' is not defined",
          "traceback": [
            "\u001b[0;31m---------------------------------------------------------------------------\u001b[0m",
            "\u001b[0;31mNameError\u001b[0m                                 Traceback (most recent call last)",
            "\u001b[0;32m<ipython-input-5-2efefa6f694f>\u001b[0m in \u001b[0;36m<cell line: 1>\u001b[0;34m()\u001b[0m\n\u001b[1;32m      3\u001b[0m     \u001b[0mplt\u001b[0m\u001b[0;34m.\u001b[0m\u001b[0maxis\u001b[0m\u001b[0;34m(\u001b[0m\u001b[0;34m'off'\u001b[0m\u001b[0;34m)\u001b[0m\u001b[0;34m\u001b[0m\u001b[0;34m\u001b[0m\u001b[0m\n\u001b[1;32m      4\u001b[0m     \u001b[0mplt\u001b[0m\u001b[0;34m.\u001b[0m\u001b[0mtitle\u001b[0m\u001b[0;34m(\u001b[0m\u001b[0my_train\u001b[0m\u001b[0;34m[\u001b[0m\u001b[0mi\u001b[0m\u001b[0;34m]\u001b[0m\u001b[0;34m[\u001b[0m\u001b[0;36m0\u001b[0m\u001b[0;34m]\u001b[0m\u001b[0;34m)\u001b[0m  \u001b[0;31m# Extract the first element of y_train[i]\u001b[0m\u001b[0;34m\u001b[0m\u001b[0;34m\u001b[0m\u001b[0m\n\u001b[0;32m----> 5\u001b[0;31m     \u001b[0mplt\u001b[0m\u001b[0;34m.\u001b[0m\u001b[0mimshow\u001b[0m\u001b[0;34m(\u001b[0m\u001b[0mX_train\u001b[0m\u001b[0;34m[\u001b[0m\u001b[0mi\u001b[0m\u001b[0;34m]\u001b[0m\u001b[0;34m,\u001b[0m \u001b[0mcmap\u001b[0m\u001b[0;34m=\u001b[0m\u001b[0;34m'gray'\u001b[0m\u001b[0;34m)\u001b[0m\u001b[0;34m\u001b[0m\u001b[0;34m\u001b[0m\u001b[0m\n\u001b[0m\u001b[1;32m      6\u001b[0m \u001b[0;34m\u001b[0m\u001b[0m\n\u001b[1;32m      7\u001b[0m \u001b[0mplt\u001b[0m\u001b[0;34m.\u001b[0m\u001b[0mshow\u001b[0m\u001b[0;34m(\u001b[0m\u001b[0;34m)\u001b[0m\u001b[0;34m\u001b[0m\u001b[0;34m\u001b[0m\u001b[0m\n",
            "\u001b[0;31mNameError\u001b[0m: name 'X_train' is not defined"
          ]
        },
        {
          "output_type": "display_data",
          "data": {
            "text/plain": [
              "<Figure size 640x480 with 1 Axes>"
            ],
            "image/png": "[encoded data removed]"
          },
          "metadata": {}
        }
      ]
    }
  ]
}