{
  "nbformat": 4,
  "nbformat_minor": 0,
  "metadata": {
    "colab": {
      "provenance": [],
      "toc_visible": true,
      "include_colab_link": true
    },
    "kernelspec": {
      "name": "python3",
      "display_name": "Python 3"
    },
    "language_info": {
      "name": "python"
    }
  },
  "cells": [
    {
      "cell_type": "markdown",
      "metadata": {
        "id": "view-in-github",
        "colab_type": "text"
      },
      "source": [
        "<a href=\"https://colab.research.google.com/github/okana2ki/ML/blob/main/eval.ipynb\" target=\"_parent\"><img src=\"https://colab.research.google.com/assets/colab-badge.svg\" alt=\"Open In Colab\"/></a>"
      ]
    },
    {
      "cell_type": "markdown",
      "source": [
        "# 2クラス分類モデルとその評価"
      ],
      "metadata": {
        "id": "A0gkFnBbXPtt"
      }
    },
    {
      "cell_type": "markdown",
      "source": [
        "**モデルの評価**のサンプルプログラムとして作成しました。"
      ],
      "metadata": {
        "id": "cr0DC1Xd8DYp"
      }
    },
    {
      "cell_type": "code",
      "source": [
        "# prompt: ロジスティック回帰で２クラスを分類するプログラムを書いて。10データの訓練セットと、10データのテストセットを作って。テストセットで精度評価をして。混同行列を書いて、正解率、精度、再現率、F値で評価して。\n",
        "# 4つの提案のうちの2つ目を採用\n",
        "\n",
        "import numpy as np\n",
        "from sklearn.linear_model import LogisticRegression\n",
        "from sklearn.metrics import confusion_matrix, accuracy_score, precision_score, recall_score, f1_score\n",
        "\n",
        "# 訓練データとテストデータを作成\n",
        "X_train = np.array([[0.5, 1.5], [1, 1], [1.5, 0.5], [3, 0.5], [2, 2], [1, 2.5], [3.5, 1], [4, 1.5], [3, 3], [2.5, 3.5]])\n",
        "y_train = np.array([0, 0, 0, 1, 1, 1, 1, 0, 1, 1])\n",
        "\n",
        "X_test = np.array([[1, 0.5], [1.5, 1], [2, 1.5], [2.5, 2], [3, 2.5], [3.5, 3], [0.5, 3.5], [1, 4], [1.5, 4.5], [2, 5]])\n",
        "y_test = np.array([0, 0, 1, 1, 1, 1, 0, 0, 0, 1])\n",
        "\n",
        "# モデルを学習\n",
        "model = LogisticRegression()\n",
        "model.fit(X_train, y_train)\n",
        "\n",
        "# テストデータで予測\n",
        "y_pred = model.predict(X_test)\n",
        "\n",
        "# 混同行列を求める\n",
        "confusion_matrix = confusion_matrix(y_test, y_pred)\n",
        "\n",
        "# 正解率、精度、再現率、F値を求める\n",
        "accuracy = accuracy_score(y_test, y_pred)\n",
        "precision = precision_score(y_test, y_pred)\n",
        "recall = recall_score(y_test, y_pred)\n",
        "f1 = f1_score(y_test, y_pred)\n",
        "\n",
        "# 結果を出力\n",
        "print(\"混同行列:\")\n",
        "print(confusion_matrix)\n",
        "print(\"\\n正解率:\", accuracy)\n",
        "print(\"精度:\", precision)\n",
        "print(\"再現率:\", recall)\n",
        "print(\"F値:\", f1)"
      ],
      "metadata": {
        "colab": {
          "base_uri": "https://localhost:8080/"
        },
        "id": "0_BNoUMj6xfO",
        "outputId": "ea47437b-56ca-411c-d494-febae42a933a"
      },
      "execution_count": 24,
      "outputs": [
        {
          "output_type": "stream",
          "name": "stdout",
          "text": [
            "混同行列:\n",
            "[[2 3]\n",
            " [0 5]]\n",
            "\n",
            "正解率: 0.7\n",
            "精度: 0.625\n",
            "再現率: 1.0\n",
            "F値: 0.7692307692307693\n"
          ]
        }
      ]
    },
    {
      "cell_type": "code",
      "source": [
        "# prompt: 上のプログラムにデータセットの可視化を追加して。\n",
        "# 提案コードをいくつか手で修正\n",
        "# Class 1がpositive（正例）\n",
        "\n",
        "import matplotlib.pyplot as plt\n",
        "\n",
        "# データセットの可視化\n",
        "plt.scatter(X_train[y_train == 0, 0], X_train[y_train == 0, 1], c='black', marker='x', label='Train: Class 0')\n",
        "plt.scatter(X_train[y_train == 1, 0], X_train[y_train == 1, 1], c='black', marker='o', label='Train: Class 1')\n",
        "plt.scatter(X_test[y_test == 0, 0], X_test[y_test == 0, 1], c='red', marker='x', label='Test: Class 0')\n",
        "plt.scatter(X_test[y_test == 1, 0], X_test[y_test == 1, 1], c='red', marker='o', label='Test: Class 1')\n",
        "\n",
        "# 決定境界の描画\n",
        "x_min, x_max = X_train[:, 0].min() - 0.5, X_train[:, 0].max() + 0.5\n",
        "y_min, y_max = X_train[:, 1].min() - 0.5, X_train[:, 1].max() + 0.5\n",
        "xx, yy = np.meshgrid(np.arange(x_min, x_max, 0.01), np.arange(y_min, y_max, 0.01))\n",
        "Z = model.predict(np.c_[xx.ravel(), yy.ravel()]).reshape(xx.shape)\n",
        "plt.contour(xx, yy, Z, levels=[0.5], colors='black')\n",
        "\n",
        "# 凡例とラベルの追加\n",
        "plt.legend()\n",
        "plt.xlabel('Feature 1')\n",
        "plt.ylabel('Feature 2')\n",
        "\n",
        "# グラフの表示\n",
        "plt.show()\n"
      ],
      "metadata": {
        "colab": {
          "base_uri": "https://localhost:8080/",
          "height": 449
        },
        "id": "S0SEBOEZzIXE",
        "outputId": "55618278-1a55-454a-b0da-68009c14d0ba"
      },
      "execution_count": 23,
      "outputs": [
        {
          "output_type": "display_data",
          "data": {
            "text/plain": [
              "<Figure size 640x480 with 1 Axes>"
            ],
            "image/png": "[encoded data removed]"
          },
          "metadata": {}
        }
      ]
    },
    {
      "cell_type": "markdown",
      "source": [
        "以下は、参考までにプロンプトに対する生成プログラム（ロジスティック回帰に対する精度評価）"
      ],
      "metadata": {
        "id": "cEHkwxa-7aud"
      }
    },
    {
      "cell_type": "code",
      "source": [
        "# prompt: ロジスティック回帰で２クラスを分類するプログラムを書いて。10データの訓練セットと、10データのテストセットを作って。テストセットで精度評価をして。混同行列を書いて、正解率、精度、再現率、F値で評価して。\n",
        "\n",
        "import numpy as np\n",
        "from sklearn.linear_model import LogisticRegression\n",
        "from sklearn.metrics import confusion_matrix, accuracy_score, precision_score, recall_score, f1_score\n",
        "\n",
        "# 訓練データとテストデータを作成\n",
        "X_train = np.array([[0.5, 1.5], [1, 1], [1.5, 0.5], [3, 0.5], [2, 2], [1, 2.5], [3.5, 1], [4, 1.5], [3, 3], [2.5, 3.5]])\n",
        "y_train = np.array([0, 0, 0, 1, 1, 1, 1, 0, 1, 1])\n",
        "\n",
        "X_test = np.array([[1, 0.5], [1.5, 1], [2, 1.5], [2.5, 2], [3, 2.5], [3.5, 3], [0.5, 3.5], [1, 4], [1.5, 4.5], [2, 5]])\n",
        "y_test = np.array([0, 0, 1, 1, 1, 1, 0, 0, 0, 1])\n",
        "\n",
        "# モデルを学習\n",
        "model = LogisticRegression()\n",
        "model.fit(X_train, y_train)\n",
        "\n",
        "# テストデータで予測\n",
        "y_pred = model.predict(X_test)\n",
        "\n",
        "# 混同行列を求める\n",
        "confusion_matrix = confusion_matrix(y_test, y_pred)\n",
        "\n",
        "# 正解率、精度、再現率、F値を求める\n",
        "accuracy = accuracy_score(y_test, y_pred)\n",
        "precision = precision_score(y_test, y_pred)\n",
        "recall = recall_score(y_test, y_pred)\n",
        "f1 = f1_score(y_test, y_pred)\n",
        "\n",
        "# 結果を出力\n",
        "print(\"混同行列:\")\n",
        "print(confusion_matrix)\n",
        "print(\"\\n正解率:\", accuracy)\n",
        "print(\"精度:\", precision)\n",
        "print(\"再現率:\", recall)\n",
        "print(\"F値:\", f1)\n"
      ],
      "metadata": {
        "colab": {
          "base_uri": "https://localhost:8080/"
        },
        "id": "wnP9uo-Ippz7",
        "outputId": "5b945cfe-eaae-4b5d-cac6-fd77125a5543"
      },
      "execution_count": 10,
      "outputs": [
        {
          "output_type": "stream",
          "name": "stdout",
          "text": [
            "混同行列:\n",
            "[[2 3]\n",
            " [0 5]]\n",
            "\n",
            "正解率: 0.7\n",
            "精度: 0.625\n",
            "再現率: 1.0\n",
            "F値: 0.7692307692307693\n"
          ]
        }
      ]
    },
    {
      "cell_type": "markdown",
      "source": [
        "以下は参考までに、修正前の提案プログラム（可視化）"
      ],
      "metadata": {
        "id": "pl_nEfZ264lU"
      }
    },
    {
      "cell_type": "code",
      "source": [
        "# prompt: 上のプログラムにデータセットの可視化を追加して。\n",
        "\n",
        "import matplotlib.pyplot as plt\n",
        "\n",
        "# 散布図を作成\n",
        "plt.scatter(X_train[:, 0], X_train[:, 1], c=y_train, cmap='viridis')\n",
        "plt.xlabel(\"特徴量1\")\n",
        "plt.ylabel(\"特徴量2\")\n",
        "plt.title(\"訓練データ\")\n",
        "plt.show()\n",
        "\n",
        "# 散布図を作成\n",
        "plt.scatter(X_test[:, 0], X_test[:, 1], c=y_test, cmap='viridis')\n",
        "plt.xlabel(\"特徴量1\")\n",
        "plt.ylabel(\"特徴量2\")\n",
        "plt.title(\"テストデータ\")\n",
        "plt.show()\n",
        "\n"
      ],
      "metadata": {
        "id": "izCRJ-N2uNUx"
      },
      "execution_count": null,
      "outputs": []
    }
  ]
}